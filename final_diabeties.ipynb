{
  "nbformat": 4,
  "nbformat_minor": 0,
  "metadata": {
    "colab": {
      "name": "final_diabeties.ipynb",
      "provenance": [],
      "collapsed_sections": []
    },
    "kernelspec": {
      "name": "python3",
      "display_name": "Python 3"
    },
    "language_info": {
      "name": "python"
    }
  },
  "cells": [
    {
      "cell_type": "code",
      "metadata": {
        "id": "EfOvLsYoXDAQ",
        "colab": {
          "base_uri": "https://localhost:8080/"
        },
        "outputId": "d190ecad-d501-494d-a63a-a783ef3d0a60"
      },
      "source": [
        "import pandas as pd\n",
        "import numpy as np\n",
        "import pickle\n",
        "!pip install xgboost --upgrade\n",
        "from sklearn import metrics\n",
        "import time"
      ],
      "execution_count": 93,
      "outputs": [
        {
          "output_type": "stream",
          "name": "stdout",
          "text": [
            "Requirement already satisfied: xgboost in /usr/local/lib/python3.7/dist-packages (1.5.1)\n",
            "Requirement already satisfied: numpy in /usr/local/lib/python3.7/dist-packages (from xgboost) (1.19.5)\n",
            "Requirement already satisfied: scipy in /usr/local/lib/python3.7/dist-packages (from xgboost) (1.4.1)\n"
          ]
        }
      ]
    },
    {
      "cell_type": "code",
      "metadata": {
        "colab": {
          "base_uri": "https://localhost:8080/"
        },
        "id": "MDqz-ocko-G_",
        "outputId": "dd41f534-294c-45e2-9785-8e4a4a937b8b"
      },
      "source": [
        "from google.colab import drive\n",
        "drive.mount('/content/drive')"
      ],
      "execution_count": 63,
      "outputs": [
        {
          "output_type": "stream",
          "name": "stdout",
          "text": [
            "Drive already mounted at /content/drive; to attempt to forcibly remount, call drive.mount(\"/content/drive\", force_remount=True).\n"
          ]
        }
      ]
    },
    {
      "cell_type": "markdown",
      "metadata": {
        "id": "3ncyRAqitz9B"
      },
      "source": [
        "# loading label encoders"
      ]
    },
    {
      "cell_type": "code",
      "metadata": {
        "id": "QpfgKur5rqcm"
      },
      "source": [
        "pkl_file = open('/content/drive/MyDrive/case_study_weights/saved_label_dict_save.pkl', 'rb')\n",
        "load_label = pickle.load(pkl_file) \n",
        "pkl_file.close()"
      ],
      "execution_count": 64,
      "outputs": []
    },
    {
      "cell_type": "markdown",
      "metadata": {
        "id": "SvObTI7ot7kJ"
      },
      "source": [
        "# loading CalibratedClassifier with base_estimator = XGBClassifier"
      ]
    },
    {
      "cell_type": "code",
      "metadata": {
        "id": "gPMunO3QoguK",
        "colab": {
          "base_uri": "https://localhost:8080/"
        },
        "outputId": "ba0e1c0b-15b9-4ad2-e46a-19865831211d"
      },
      "source": [
        "pkl_file = open('/content/drive/MyDrive/case_study_weights/sig_clf_save.pkl', 'rb')\n",
        "load_sig_clf = pickle.load(pkl_file) \n",
        "pkl_file.close()\n",
        "load_sig_clf"
      ],
      "execution_count": 65,
      "outputs": [
        {
          "output_type": "execute_result",
          "data": {
            "text/plain": [
              "CalibratedClassifierCV(base_estimator=XGBClassifier(base_score=0.5,\n",
              "                                                    booster='gbtree',\n",
              "                                                    colsample_bylevel=1,\n",
              "                                                    colsample_bynode=1,\n",
              "                                                    colsample_bytree=1,\n",
              "                                                    enable_categorical=False,\n",
              "                                                    gamma=0, gpu_id=-1,\n",
              "                                                    importance_type=None,\n",
              "                                                    interaction_constraints='',\n",
              "                                                    learning_rate=0.300000012,\n",
              "                                                    max_delta_step=0,\n",
              "                                                    max_depth=6,\n",
              "                                                    min_child_weight=1,\n",
              "                                                    missing=nan,\n",
              "                                                    monotone_constraints='()',\n",
              "                                                    n_estimators=100, n_jobs=2,\n",
              "                                                    num_parallel_tree=1,\n",
              "                                                    predictor='auto',\n",
              "                                                    random_state=0, reg_alpha=0,\n",
              "                                                    reg_lambda=1,\n",
              "                                                    scale_pos_weight=1,\n",
              "                                                    subsample=1,\n",
              "                                                    tree_method='exact',\n",
              "                                                    validate_parameters=1,\n",
              "                                                    verbosity=None))"
            ]
          },
          "metadata": {},
          "execution_count": 65
        }
      ]
    },
    {
      "cell_type": "markdown",
      "metadata": {
        "id": "wy4NJSXxD2Ry"
      },
      "source": [
        "# loading extra data"
      ]
    },
    {
      "cell_type": "code",
      "metadata": {
        "id": "2Kuj-24vtLPg",
        "colab": {
          "base_uri": "https://localhost:8080/"
        },
        "outputId": "269ddf12-e482-4871-b96a-3df6f6a1fdf3"
      },
      "source": [
        "pkl_file = open('/content/drive/MyDrive/case_study_weights/num_col.pkl', 'rb')\n",
        "num_col = pickle.load(pkl_file) \n",
        "pkl_file.close()\n",
        "num_col"
      ],
      "execution_count": 66,
      "outputs": [
        {
          "output_type": "execute_result",
          "data": {
            "text/plain": [
              "Index(['time_in_hospital', 'num_lab_procedures', 'num_procedures',\n",
              "       'num_medications', 'number_outpatient', 'number_emergency',\n",
              "       'number_inpatient', 'number_diagnoses', 'Service_Utilization'],\n",
              "      dtype='object')"
            ]
          },
          "metadata": {},
          "execution_count": 66
        }
      ]
    },
    {
      "cell_type": "markdown",
      "metadata": {
        "id": "PB8fx-aQm6Hz"
      },
      "source": [
        "# loading raw data for predictions"
      ]
    },
    {
      "cell_type": "code",
      "metadata": {
        "colab": {
          "base_uri": "https://localhost:8080/"
        },
        "id": "AM2z-6tcrvCs",
        "outputId": "29d2c6f9-cd54-463b-87a7-188847b9091f"
      },
      "source": [
        "data = pd.read_csv('/content/drive/MyDrive/case_study_1/diabetic_data.csv')\n",
        "\n",
        "data_ = data.drop(['encounter_id', 'patient_nbr','weight','readmitted','glimepiride-pioglitazone','metformin-pioglitazone',\n",
        "                   'metformin-rosiglitazone','citoglipton','glipizide-metformin','acetohexamide','examide',\n",
        " 'tolazamide','troglitazone','chlorpropamide','miglitol','tolbutamide'], axis=1)\n",
        "\n",
        "new_target = data['readmitted'].replace('>30','NO')\n",
        "print(new_target.unique())\n",
        "new_target = new_target.replace({ 'NO' : 0, '<30' : 1 })"
      ],
      "execution_count": 67,
      "outputs": [
        {
          "output_type": "stream",
          "name": "stdout",
          "text": [
            "['NO' '<30']\n"
          ]
        }
      ]
    },
    {
      "cell_type": "markdown",
      "metadata": {
        "id": "eMao3JXOmqvN"
      },
      "source": [
        "# predict function"
      ]
    },
    {
      "cell_type": "code",
      "metadata": {
        "id": "R6GEal57r0Vt"
      },
      "source": [
        "def predict(quary) :\n",
        "  # preprocessing on quary point\n",
        "  quary = quary.replace('?','Missing')\n",
        "  num_data = quary[num_col[:-1]]\n",
        "  survice = num_data['number_outpatient']+num_data['number_emergency']+num_data['number_inpatient']\n",
        "  num_data = num_data.apply(lambda x : np.log(x+1))\n",
        "  quary[num_col[:-1]] = num_data\n",
        "  quary[num_col[-1]] = survice\n",
        "  # label encoding\n",
        "  for lb in load_label.keys():\n",
        "    label = load_label[lb]\n",
        "    label = load_label[lb]\n",
        "    quary[lb] = label.transform(np.array([quary[lb]]))[0]\n",
        "  # predicting\n",
        "  sig_clf_probs = load_sig_clf.predict_proba(np.array(quary).reshape(1,-1))\n",
        "  y_pred = load_sig_clf.predict(np.array(quary).reshape(1,-1))\n",
        "  print('predictions = ',sig_clf_probs[0])\n",
        "  return y_pred[0], sig_clf_probs"
      ],
      "execution_count": 72,
      "outputs": []
    },
    {
      "cell_type": "markdown",
      "metadata": {
        "id": "tYD9gEqinSQC"
      },
      "source": [
        "#final_1"
      ]
    },
    {
      "cell_type": "code",
      "metadata": {
        "id": "Aep3kgpbnVOs"
      },
      "source": [
        "def final_1(quary):\n",
        "  pre ,proba = predict(quary)\n",
        "  if pre==1:\n",
        "    print('Yes, patient will be readmitted within 30 days')\n",
        "  else:\n",
        "    print('No, patient will not be readmitted within 30 days')"
      ],
      "execution_count": 73,
      "outputs": []
    },
    {
      "cell_type": "code",
      "metadata": {
        "colab": {
          "base_uri": "https://localhost:8080/"
        },
        "id": "gflod2VToNcc",
        "outputId": "883d6d6c-f8fa-487b-db8e-b241f084814f"
      },
      "source": [
        "final_1(data_.iloc[99])"
      ],
      "execution_count": 74,
      "outputs": [
        {
          "output_type": "stream",
          "name": "stdout",
          "text": [
            "predictions =  [0.16292101 0.83707899]\n",
            "Yes, patient will be readmitted within 30 days\n"
          ]
        }
      ]
    },
    {
      "cell_type": "code",
      "metadata": {
        "colab": {
          "base_uri": "https://localhost:8080/"
        },
        "id": "XP7h3PMQr81t",
        "outputId": "9b5d3276-764b-4920-df9a-afb1ac6d7d53"
      },
      "source": [
        "final_1(data_.iloc[34])"
      ],
      "execution_count": 91,
      "outputs": [
        {
          "output_type": "stream",
          "name": "stdout",
          "text": [
            "predictions =  [0.94579659 0.05420341]\n",
            "No, patient will not be readmitted within 30 days\n"
          ]
        }
      ]
    },
    {
      "cell_type": "code",
      "metadata": {
        "colab": {
          "base_uri": "https://localhost:8080/"
        },
        "id": "HlCw5QNroerL",
        "outputId": "fd019d49-bca0-4c61-b0a8-13c64772e522"
      },
      "source": [
        "final_1(data_.iloc[9])"
      ],
      "execution_count": 75,
      "outputs": [
        {
          "output_type": "stream",
          "name": "stdout",
          "text": [
            "predictions =  [0.8606573 0.1393427]\n",
            "No, patient will not be readmitted within 30 days\n"
          ]
        }
      ]
    },
    {
      "cell_type": "markdown",
      "metadata": {
        "id": "xGTGTD1powiW"
      },
      "source": [
        "# Final_2"
      ]
    },
    {
      "cell_type": "code",
      "metadata": {
        "id": "4ArhvloGo0X5"
      },
      "source": [
        "def final_2(quary, ture_val):\n",
        "  pre ,proba = predict(quary)\n",
        "  logloss = metrics.log_loss([ture_val],proba,labels=[0,1])\n",
        "  print('logg loss is :',logloss)\n",
        "  if pre==1:\n",
        "    print('Yes, patient will be readmitted within 30 days')\n",
        "  else:\n",
        "    print('No, patient will not be readmitted within 30 days')"
      ],
      "execution_count": 87,
      "outputs": []
    },
    {
      "cell_type": "code",
      "metadata": {
        "colab": {
          "base_uri": "https://localhost:8080/"
        },
        "id": "YxAobYsWrzvq",
        "outputId": "53a57e54-d92d-430e-d5fe-a45d0c09fcf9"
      },
      "source": [
        "quary = data_.iloc[345]\n",
        "ture_val = new_target.iloc[345]\n",
        "final_2(quary, ture_val)"
      ],
      "execution_count": 90,
      "outputs": [
        {
          "output_type": "stream",
          "name": "stdout",
          "text": [
            "predictions =  [0.93745178 0.06254822]\n",
            "logg loss is : 0.06458995967949423\n",
            "No, patient will not be readmitted within 30 days\n"
          ]
        }
      ]
    },
    {
      "cell_type": "code",
      "metadata": {
        "colab": {
          "base_uri": "https://localhost:8080/"
        },
        "id": "zMiT9tUArr_A",
        "outputId": "e60d2efb-aab9-45bc-c851-ea88fb040c5e"
      },
      "source": [
        "quary = data_.iloc[13]\n",
        "ture_val = new_target.iloc[13]\n",
        "final_2(quary, ture_val)"
      ],
      "execution_count": 89,
      "outputs": [
        {
          "output_type": "stream",
          "name": "stdout",
          "text": [
            "predictions =  [0.87968118 0.12031882]\n",
            "logg loss is : 0.12819572874678273\n",
            "No, patient will not be readmitted within 30 days\n"
          ]
        }
      ]
    },
    {
      "cell_type": "code",
      "metadata": {
        "colab": {
          "base_uri": "https://localhost:8080/"
        },
        "id": "tI65rXGZo7lr",
        "outputId": "be9b0fac-254a-4f86-dd67-cb57bf69834f"
      },
      "source": [
        "quary = data_.iloc[99]\n",
        "ture_val = new_target.iloc[99]\n",
        "final_2(quary, ture_val)"
      ],
      "execution_count": 88,
      "outputs": [
        {
          "output_type": "stream",
          "name": "stdout",
          "text": [
            "predictions =  [0.16292101 0.83707899]\n",
            "logg loss is : 1.8144897879723227\n",
            "Yes, patient will be readmitted within 30 days\n"
          ]
        }
      ]
    },
    {
      "cell_type": "markdown",
      "metadata": {
        "id": "U4JFwH0VsGHK"
      },
      "source": [
        "# time taken "
      ]
    },
    {
      "cell_type": "code",
      "metadata": {
        "colab": {
          "base_uri": "https://localhost:8080/"
        },
        "id": "zjOAgJ3zsIg8",
        "outputId": "a1868121-cac4-4c9b-8f56-90cf82c176c4"
      },
      "source": [
        "quary = data_.iloc[87]\n",
        "begin = time.time()\n",
        "pre ,proba = predict(quary)\n",
        "end = time.time()\n",
        "print('time taken by program is :',end-begin)"
      ],
      "execution_count": 94,
      "outputs": [
        {
          "output_type": "stream",
          "name": "stdout",
          "text": [
            "predictions =  [0.88346499 0.11653501]\n",
            "time taken by program is : 0.0553746223449707\n"
          ]
        }
      ]
    },
    {
      "cell_type": "code",
      "metadata": {
        "colab": {
          "base_uri": "https://localhost:8080/"
        },
        "id": "f0n-e6VPtSo0",
        "outputId": "876d31e2-d97c-4138-9863-1ed5cd419e1a"
      },
      "source": [
        "quary = data_.iloc[7]\n",
        "begin = time.time()\n",
        "pre ,proba = predict(quary)\n",
        "end = time.time()\n",
        "print('time taken by program is :',end-begin)"
      ],
      "execution_count": 95,
      "outputs": [
        {
          "output_type": "stream",
          "name": "stdout",
          "text": [
            "predictions =  [0.93186463 0.06813537]\n",
            "time taken by program is : 0.05741763114929199\n"
          ]
        }
      ]
    },
    {
      "cell_type": "code",
      "metadata": {
        "colab": {
          "base_uri": "https://localhost:8080/"
        },
        "id": "xLurtusAtUKc",
        "outputId": "72dd21cc-fc72-406e-a971-3e7180c6ad18"
      },
      "source": [
        "quary = data_.iloc[58]\n",
        "begin = time.time()\n",
        "pre ,proba = predict(quary)\n",
        "end = time.time()\n",
        "print('time taken by program is :',end-begin)"
      ],
      "execution_count": 96,
      "outputs": [
        {
          "output_type": "stream",
          "name": "stdout",
          "text": [
            "predictions =  [0.8811045 0.1188955]\n",
            "time taken by program is : 0.0738227367401123\n"
          ]
        }
      ]
    },
    {
      "cell_type": "markdown",
      "metadata": {
        "id": "tpuSE4Kd3j-v"
      },
      "source": [
        "# DEPLOYMENT\n"
      ]
    },
    {
      "cell_type": "markdown",
      "metadata": {
        "id": "xGWh89hw3pG0"
      },
      "source": [
        "![11.PNG](data:image/png;base64,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)![3.PNG](data:image/png;base64,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)![1.PNG](data:image/png;base64,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)"
      ]
    },
    {
      "cell_type": "code",
      "metadata": {
        "id": "ADYUuqKc8JbA"
      },
      "source": [
        ""
      ],
      "execution_count": null,
      "outputs": []
    },
    {
      "cell_type": "markdown",
      "metadata": {
        "id": "q75cNDpF75hH"
      },
      "source": [
        "# VIDEO LINK"
      ]
    },
    {
      "cell_type": "code",
      "metadata": {
        "id": "XLW6ZO2M7v_L"
      },
      "source": [
        "https://drive.google.com/file/d/1vgSXfvoLVw7Hr4fVOw_crXXsmTwaHmLD/view?usp=sharing"
      ],
      "execution_count": null,
      "outputs": []
    }
  ]
}